{
 "cells": [
  {
   "cell_type": "markdown",
   "id": "f2a3ea6d",
   "metadata": {},
   "source": [
    "1. In the below elements which of them are values or an expression? eg:- values can be\n",
    "integer or string and expressions will be mathematical operators."
   ]
  },
  {
   "cell_type": "markdown",
   "id": "935c10e9",
   "metadata": {},
   "source": [
    "a. (*)\n",
    "It is a mathematical operator used for multiplication and expression .\n"
   ]
  },
  {
   "cell_type": "code",
   "execution_count": 1,
   "id": "8fa687a9",
   "metadata": {},
   "outputs": [
    {
     "data": {
      "text/plain": [
       "str"
      ]
     },
     "execution_count": 1,
     "metadata": {},
     "output_type": "execute_result"
    }
   ],
   "source": [
    "a = ('hello')\n",
    "type(a)"
   ]
  },
  {
   "cell_type": "markdown",
   "id": "75cbd7d0",
   "metadata": {},
   "source": [
    "b. 'hello' is string and also it is value."
   ]
  },
  {
   "cell_type": "code",
   "execution_count": 2,
   "id": "ab709471",
   "metadata": {},
   "outputs": [
    {
     "data": {
      "text/plain": [
       "float"
      ]
     },
     "execution_count": 2,
     "metadata": {},
     "output_type": "execute_result"
    }
   ],
   "source": [
    "c = -87.8\n",
    "type(c)"
   ]
  },
  {
   "cell_type": "markdown",
   "id": "d18f8df7",
   "metadata": {},
   "source": [
    "c. -87.8 is float it is also calles value."
   ]
  },
  {
   "cell_type": "markdown",
   "id": "2ad87ac5",
   "metadata": {},
   "source": [
    "d.(-) It is a mathematical operator  used for substraction and expression."
   ]
  },
  {
   "cell_type": "markdown",
   "id": "729e1199",
   "metadata": {},
   "source": [
    "e.(/) It is a mathematical operator  used for divide and expression ."
   ]
  },
  {
   "cell_type": "markdown",
   "id": "7cb75eca",
   "metadata": {},
   "source": [
    "f.(+)It is a mathematical operator used for Addition and expression ."
   ]
  },
  {
   "cell_type": "code",
   "execution_count": 3,
   "id": "be537e76",
   "metadata": {},
   "outputs": [
    {
     "data": {
      "text/plain": [
       "int"
      ]
     },
     "execution_count": 3,
     "metadata": {},
     "output_type": "execute_result"
    }
   ],
   "source": [
    "h = 6\n",
    "type(h)\n"
   ]
  },
  {
   "cell_type": "markdown",
   "id": "579636d4",
   "metadata": {},
   "source": [
    "h.6 is integer also it is value."
   ]
  },
  {
   "cell_type": "markdown",
   "id": "a60042b6",
   "metadata": {},
   "source": [
    "2. What is the difference between string and variable?"
   ]
  },
  {
   "cell_type": "code",
   "execution_count": 4,
   "id": "7b4e7307",
   "metadata": {},
   "outputs": [
    {
     "data": {
      "text/plain": [
       "str"
      ]
     },
     "execution_count": 4,
     "metadata": {},
     "output_type": "execute_result"
    }
   ],
   "source": [
    "x=(\"ineuron\")\n",
    "type(x)"
   ]
  },
  {
   "cell_type": "markdown",
   "id": "906d6db8",
   "metadata": {},
   "source": [
    "we will undestand difference between string and variable by an example\n",
    "suppose we have x=(\"ienuron\") in this x is a variable i.e in variable(x) we store information and  string (\"ineuron\") is a type of information we  will store in varaible and string is  usually words."
   ]
  },
  {
   "cell_type": "markdown",
   "id": "718937bd",
   "metadata": {},
   "source": [
    "3. Describe three different data types."
   ]
  },
  {
   "cell_type": "markdown",
   "id": "9f72987e",
   "metadata": {},
   "source": [
    "\n",
    "1.integer = \n",
    "integer is  generally used for numbers like whole numbers then its is called integer"
   ]
  },
  {
   "cell_type": "code",
   "execution_count": 5,
   "id": "c089304e",
   "metadata": {},
   "outputs": [
    {
     "data": {
      "text/plain": [
       "int"
      ]
     },
     "execution_count": 5,
     "metadata": {},
     "output_type": "execute_result"
    }
   ],
   "source": [
    "i = 45\n",
    "type(i)"
   ]
  },
  {
   "cell_type": "markdown",
   "id": "a576ef6b",
   "metadata": {},
   "source": [
    "2.float = fload is used for numbers like decimal points then it is called fload or floating point."
   ]
  },
  {
   "cell_type": "code",
   "execution_count": 6,
   "id": "b8971dbb",
   "metadata": {},
   "outputs": [
    {
     "data": {
      "text/plain": [
       "float"
      ]
     },
     "execution_count": 6,
     "metadata": {},
     "output_type": "execute_result"
    }
   ],
   "source": [
    "f = 52.37\n",
    "type(f)"
   ]
  },
  {
   "cell_type": "markdown",
   "id": "26688db6",
   "metadata": {},
   "source": [
    "3.string = string is used for alphabetical as well as numberical characters i.e alphanumeric characters like ineuron or math123 "
   ]
  },
  {
   "cell_type": "code",
   "execution_count": 7,
   "id": "f7ca1544",
   "metadata": {},
   "outputs": [
    {
     "data": {
      "text/plain": [
       "str"
      ]
     },
     "execution_count": 7,
     "metadata": {},
     "output_type": "execute_result"
    }
   ],
   "source": [
    "s = \"ineuron\"\n",
    "type (s)"
   ]
  },
  {
   "cell_type": "code",
   "execution_count": 8,
   "id": "36e7c03d",
   "metadata": {},
   "outputs": [
    {
     "data": {
      "text/plain": [
       "True"
      ]
     },
     "execution_count": 8,
     "metadata": {},
     "output_type": "execute_result"
    }
   ],
   "source": [
    "a = \"ineuron\"\n",
    "a.isalpha()"
   ]
  },
  {
   "cell_type": "code",
   "execution_count": 9,
   "id": "981a5210",
   "metadata": {},
   "outputs": [
    {
     "data": {
      "text/plain": [
       "True"
      ]
     },
     "execution_count": 9,
     "metadata": {},
     "output_type": "execute_result"
    }
   ],
   "source": [
    "b = \"python123\"\n",
    "b.isalnum()"
   ]
  },
  {
   "cell_type": "markdown",
   "id": "76cc7c45",
   "metadata": {},
   "source": [
    "4. What is an expression made up of? What do all expressions do?"
   ]
  },
  {
   "cell_type": "markdown",
   "id": "2a65cbfe",
   "metadata": {},
   "source": [
    "Expression is generally made of variables,constant,operators\n",
    "Expressions are representations of value."
   ]
  },
  {
   "cell_type": "markdown",
   "id": "e27bf2ec",
   "metadata": {},
   "source": [
    "5. This assignment statements, like spam = 10. What is the difference between an\n",
    "expression and a statement?"
   ]
  },
  {
   "cell_type": "markdown",
   "id": "2f3b05fd",
   "metadata": {},
   "source": [
    "Expression is a like combination of values, mathematical operators\n",
    "on the other hand statements is just like command  that just print which we write and doesn't return anything."
   ]
  },
  {
   "cell_type": "markdown",
   "id": "a8381647",
   "metadata": {},
   "source": [
    "6. After running the following code, what does the variable bacon contain?\n",
    "bacon = 22\n",
    "bacon + 1"
   ]
  },
  {
   "cell_type": "code",
   "execution_count": 10,
   "id": "0d119936",
   "metadata": {},
   "outputs": [
    {
     "data": {
      "text/plain": [
       "23"
      ]
     },
     "execution_count": 10,
     "metadata": {},
     "output_type": "execute_result"
    }
   ],
   "source": [
    "bacon = 22\n",
    "bacon + 1"
   ]
  },
  {
   "cell_type": "markdown",
   "id": "9aad8dcb",
   "metadata": {},
   "source": [
    "7. What should the values of the following two terms be?\n"
   ]
  },
  {
   "cell_type": "code",
   "execution_count": 11,
   "id": "b3509bf9",
   "metadata": {},
   "outputs": [
    {
     "data": {
      "text/plain": [
       "'spamspamspam'"
      ]
     },
     "execution_count": 11,
     "metadata": {},
     "output_type": "execute_result"
    }
   ],
   "source": [
    "'spam'+ 'spamspam'"
   ]
  },
  {
   "cell_type": "code",
   "execution_count": 12,
   "id": "9d6fcb3e",
   "metadata": {},
   "outputs": [
    {
     "data": {
      "text/plain": [
       "'spamspamspam'"
      ]
     },
     "execution_count": 12,
     "metadata": {},
     "output_type": "execute_result"
    }
   ],
   "source": [
    "'spam'*3"
   ]
  },
  {
   "cell_type": "markdown",
   "id": "c4ec800a",
   "metadata": {},
   "source": [
    "8. Why is eggs a valid variable name while 100 is invalid?"
   ]
  },
  {
   "cell_type": "markdown",
   "id": "2c8d0c50",
   "metadata": {},
   "source": [
    "In python we use varibles name start with alphabets charaters not start with numbers hence eggs is valid variable name and 100 is not beacuse it begin with a number."
   ]
  },
  {
   "cell_type": "markdown",
   "id": "4692e9b4",
   "metadata": {},
   "source": [
    "9. What three functions can be used to get the integer, floating-point number, or string\n",
    "version of a value?"
   ]
  },
  {
   "cell_type": "code",
   "execution_count": 13,
   "id": "2490bcb1",
   "metadata": {},
   "outputs": [
    {
     "data": {
      "text/plain": [
       "0"
      ]
     },
     "execution_count": 13,
     "metadata": {},
     "output_type": "execute_result"
    }
   ],
   "source": [
    "int()"
   ]
  },
  {
   "cell_type": "code",
   "execution_count": 14,
   "id": "233442fc",
   "metadata": {},
   "outputs": [
    {
     "data": {
      "text/plain": [
       "0.0"
      ]
     },
     "execution_count": 14,
     "metadata": {},
     "output_type": "execute_result"
    }
   ],
   "source": [
    "float()"
   ]
  },
  {
   "cell_type": "code",
   "execution_count": 15,
   "id": "65f74389",
   "metadata": {},
   "outputs": [
    {
     "data": {
      "text/plain": [
       "''"
      ]
     },
     "execution_count": 15,
     "metadata": {},
     "output_type": "execute_result"
    }
   ],
   "source": [
    "str()"
   ]
  },
  {
   "cell_type": "markdown",
   "id": "311bd08d",
   "metadata": {},
   "source": [
    "10. Why does this expression cause an error? How can you fix it?"
   ]
  },
  {
   "cell_type": "code",
   "execution_count": 16,
   "id": "6cf8e8f0",
   "metadata": {},
   "outputs": [
    {
     "data": {
      "text/plain": [
       "'I have eaten  + 99 +  burritos'"
      ]
     },
     "execution_count": 16,
     "metadata": {},
     "output_type": "execute_result"
    }
   ],
   "source": [
    "'I have eaten '' + 99 + '' burritos'"
   ]
  },
  {
   "cell_type": "markdown",
   "id": "9959eafc",
   "metadata": {},
   "source": [
    "In this  if we run this code we have an error because in this we have addition of string value then integer and again string value but in python we can not add string and intger because only strings can be concatenated to other strings with the + operator. "
   ]
  },
  {
   "cell_type": "markdown",
   "id": "e8140ebc",
   "metadata": {},
   "source": [
    "if we fix it we can convert integer in str  then we give output"
   ]
  },
  {
   "cell_type": "code",
   "execution_count": 17,
   "id": "fdf715f6",
   "metadata": {},
   "outputs": [
    {
     "data": {
      "text/plain": [
       "'I have eaten 99 burritos'"
      ]
     },
     "execution_count": 17,
     "metadata": {},
     "output_type": "execute_result"
    }
   ],
   "source": [
    "'I have eaten ' + str(99) + ' burritos'"
   ]
  },
  {
   "cell_type": "code",
   "execution_count": null,
   "id": "cb0b643d",
   "metadata": {},
   "outputs": [],
   "source": []
  },
  {
   "cell_type": "code",
   "execution_count": null,
   "id": "241e0321",
   "metadata": {},
   "outputs": [],
   "source": []
  },
  {
   "cell_type": "code",
   "execution_count": null,
   "id": "ce639051",
   "metadata": {},
   "outputs": [],
   "source": []
  }
 ],
 "metadata": {
  "kernelspec": {
   "display_name": "Python 3 (ipykernel)",
   "language": "python",
   "name": "python3"
  },
  "language_info": {
   "codemirror_mode": {
    "name": "ipython",
    "version": 3
   },
   "file_extension": ".py",
   "mimetype": "text/x-python",
   "name": "python",
   "nbconvert_exporter": "python",
   "pygments_lexer": "ipython3",
   "version": "3.9.12"
  }
 },
 "nbformat": 4,
 "nbformat_minor": 5
}
