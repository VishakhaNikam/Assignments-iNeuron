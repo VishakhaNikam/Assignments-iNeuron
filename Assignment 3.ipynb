{
 "cells": [
  {
   "cell_type": "markdown",
   "id": "a1ca2588",
   "metadata": {},
   "source": [
    "1. Why are functions advantageous to have in your programs?"
   ]
  },
  {
   "cell_type": "markdown",
   "id": "8c4ffeaf",
   "metadata": {},
   "source": [
    "Ans : Once we define a function and if we need same code for futher programs then we just called this function .This makes programs shorter ,easier to read and easier to update."
   ]
  },
  {
   "cell_type": "markdown",
   "id": "a5a8dfc5",
   "metadata": {},
   "source": [
    "Q2. When does the code in a function run:when it's specified or when it's called?"
   ]
  },
  {
   "cell_type": "markdown",
   "id": "fa010c19",
   "metadata": {},
   "source": [
    "Ans . Code in the function runs when the function is called."
   ]
  },
  {
   "cell_type": "markdown",
   "id": "b93fe2ab",
   "metadata": {},
   "source": [
    "Q3. What statement creates a function?"
   ]
  },
  {
   "cell_type": "markdown",
   "id": "4b6f0676",
   "metadata": {},
   "source": [
    "Ans. The def statement defines a function.\n",
    "\n",
    "Eg.\n",
    "\n",
    "def my_func():\n",
    "\n",
    "pass"
   ]
  },
  {
   "cell_type": "markdown",
   "id": "6324ff06",
   "metadata": {},
   "source": [
    "Q4. What is the difference between a function and a function call?"
   ]
  },
  {
   "cell_type": "markdown",
   "id": "8f7cd545",
   "metadata": {},
   "source": [
    "A function consists of the def statement and the code in its def clause"
   ]
  },
  {
   "cell_type": "markdown",
   "id": "45c1cedb",
   "metadata": {},
   "source": [
    "A function call is what moves the program execution into the function, and the function call evaluates to the function's return value."
   ]
  },
  {
   "cell_type": "code",
   "execution_count": 12,
   "id": "a91b7ed3",
   "metadata": {},
   "outputs": [],
   "source": [
    "#def of function\n",
    "def function_name():\n",
    "    pass\n",
    "#calling of function\n",
    "function_name()"
   ]
  },
  {
   "cell_type": "markdown",
   "id": "c1e7519b",
   "metadata": {},
   "source": [
    "Q5. How many global scopes are there in a Python program? How many local scopes?"
   ]
  },
  {
   "cell_type": "markdown",
   "id": "02635ff4",
   "metadata": {},
   "source": [
    "Ans .There's only one global Python scope per program execution. This scope remains in existence until the program terminates , and a local scope is created whenever a function is called."
   ]
  },
  {
   "cell_type": "markdown",
   "id": "d8b61f52",
   "metadata": {},
   "source": [
    "Q6. What happens to variables in a local scope when the function call returns?"
   ]
  },
  {
   "cell_type": "markdown",
   "id": "5adadde3",
   "metadata": {},
   "source": [
    "Ans. When a function returns, the local scope is destroyed."
   ]
  },
  {
   "cell_type": "markdown",
   "id": "3d42d394",
   "metadata": {},
   "source": [
    "Q7. What is the concept of a return value? Is it possible to have a return value in an expression?"
   ]
  },
  {
   "cell_type": "markdown",
   "id": "e3d59be2",
   "metadata": {},
   "source": [
    "Ans. A return value is the value that a function call evaluates to. Like any value, a return value can be used as part of an expression."
   ]
  },
  {
   "cell_type": "markdown",
   "id": "bf6fa507",
   "metadata": {},
   "source": [
    "Q8. If a function does not have a return statement, what is the return value of a call to that function?"
   ]
  },
  {
   "cell_type": "markdown",
   "id": "a0145b8b",
   "metadata": {},
   "source": [
    "Ans. If the funtion does not have a return statement it will not return anything."
   ]
  },
  {
   "cell_type": "markdown",
   "id": "d818a6fc",
   "metadata": {},
   "source": [
    "Q9. How do you make a function variable refer to the global variable?"
   ]
  },
  {
   "cell_type": "markdown",
   "id": "1c9bfcee",
   "metadata": {},
   "source": [
    "Ans. To make function variable as a global variable you can use the global keyword to declare which variables are global."
   ]
  },
  {
   "cell_type": "markdown",
   "id": "b2b7da54",
   "metadata": {},
   "source": [
    "Q10. What is the data type of None?\n",
    "\n"
   ]
  },
  {
   "cell_type": "markdown",
   "id": "cf58f5ad",
   "metadata": {},
   "source": [
    "Ans . The data type of None is NoneType."
   ]
  },
  {
   "cell_type": "markdown",
   "id": "9c6e2cd8",
   "metadata": {},
   "source": [
    "\n",
    "Q11. What does the sentence import areallyourpetsnamederic do?"
   ]
  },
  {
   "cell_type": "markdown",
   "id": "be91eab8",
   "metadata": {},
   "source": [
    "Ans .That import statement imports a module named areallyourpetsnamederic. (But a module of this name doesnt exists in Python)"
   ]
  },
  {
   "cell_type": "markdown",
   "id": "7175fa8d",
   "metadata": {},
   "source": [
    "Q12. If you had a bacon() feature in a spam module, what would you call it after importing spam?"
   ]
  },
  {
   "cell_type": "markdown",
   "id": "cf3052b1",
   "metadata": {},
   "source": [
    "Ans .import spam\n",
    "\n",
    "spam.bacon()"
   ]
  },
  {
   "cell_type": "markdown",
   "id": "fc6f9511",
   "metadata": {},
   "source": [
    "Q13. What can you do to save a programme from crashing if it encounters an error?"
   ]
  },
  {
   "cell_type": "markdown",
   "id": "170f522e",
   "metadata": {},
   "source": [
    "Ans. We can use try except clause to save a program from crashing."
   ]
  },
  {
   "cell_type": "markdown",
   "id": "3f255fdf",
   "metadata": {},
   "source": [
    "Q14. What is the purpose of the try clause? What is the purpose of the except clause?\n",
    "\n"
   ]
  },
  {
   "cell_type": "markdown",
   "id": "1989fa7c",
   "metadata": {},
   "source": [
    "Ans. Try and Except clause is used to handle the errors within our code . The try block is used to check some code for errors i.e the code inside the try block will execute when there is no error in the program. Whereas the code inside the except block will execute whenever the program encounters some error in the try block."
   ]
  },
  {
   "cell_type": "markdown",
   "id": "d20d1617",
   "metadata": {},
   "source": [
    "Eg. try:\n",
    "\n",
    "     # Code <br>\n",
    "        \n",
    "except:\n",
    "\n",
    "     # Executed if error in the<br>\n",
    "     # try block"
   ]
  },
  {
   "cell_type": "code",
   "execution_count": null,
   "id": "e9b20e71",
   "metadata": {},
   "outputs": [],
   "source": []
  }
 ],
 "metadata": {
  "kernelspec": {
   "display_name": "Python 3 (ipykernel)",
   "language": "python",
   "name": "python3"
  },
  "language_info": {
   "codemirror_mode": {
    "name": "ipython",
    "version": 3
   },
   "file_extension": ".py",
   "mimetype": "text/x-python",
   "name": "python",
   "nbconvert_exporter": "python",
   "pygments_lexer": "ipython3",
   "version": "3.9.12"
  }
 },
 "nbformat": 4,
 "nbformat_minor": 5
}
